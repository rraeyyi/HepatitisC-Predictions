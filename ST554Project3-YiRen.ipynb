{
 "cells": [
  {
   "cell_type": "markdown",
   "id": "6828e9c5-08a3-4d0d-bc03-07a8566a2fbe",
   "metadata": {},
   "source": [
    "# ST590 Project 3 - Hepatitis C Predictions\n",
    "Yi Ren"
   ]
  },
  {
   "cell_type": "markdown",
   "id": "ae21aa53-f226-41c7-8eb5-6f67b0138faf",
   "metadata": {},
   "source": [
    "## Introduction\n",
    "### Supervised Learning\n",
    "Supervised learning is a subcategory of machine learning and artificial intelligence. It is defined by its use of labeled datasets to train algorithms that to classify data or predict outcomes accurately. \n",
    "\n",
    "In supervised learning, the algorithm “learns” from the training dataset by iteratively making predictions on the data and adjusting for the correct answer. While supervised learning models tend to be more accurate than unsupervised learning models, they require upfront human intervention to label the data appropriately. \n",
    "\n",
    "Supervised learning is classified into two categories of algorithms: \n",
    "\n",
    "+ Classification: A classification problem is when the output variable is a category, such as “Red” or “blue” , “disease” or “no disease”.\n",
    "+ Regression: A regression problem is when the output variable is a real value, such as “dollars” or “weight”.\n",
    "Supervised learning deals with or learns with “labeled” data. This implies that some data is already tagged with the correct answer.\n",
    "\n",
    "Types:\n",
    "+ Regression\n",
    "+ Logistic Regression\n",
    "+ Classification\n",
    "+ Naive Bayes Classifiers\n",
    "+ K-NN (k nearest neighbors)\n",
    "+ Decision Trees\n",
    "+ Support Vector Machine\n",
    "\n",
    "Advantages:\n",
    "\n",
    "+ Supervised learning allows collecting data and produces data output from previous experiences.\n",
    "+ Helps to optimize performance criteria with the help of experience.\n",
    "+ Supervised machine learning helps to solve various types of real-world computation problems.\n",
    "+ It performs classification and regression tasks.\n",
    "+ It allows estimating or mapping the result to a new sample. \n",
    "+ We have complete control over choosing the number of classes we want in the training data.\n",
    "\n",
    "Disadvantages:\n",
    "\n",
    "+ Classifying big data can be challenging.\n",
    "+ Training for supervised learning needs a lot of computation time. So, it requires a lot of time.\n",
    "+ Supervised learning cannot handle all complex tasks in Machine Learning.\n",
    "+ Computation time is vast for supervised learning.\n",
    "+ It requires a labelled data set and training process.\n",
    "\n",
    "More detailed information can be found via [Supervised and Unsupervised Learning](https://www.geeksforgeeks.org/supervised-unsupervised-learning/)."
   ]
  },
  {
   "cell_type": "markdown",
   "id": "3c8988f2-d29c-4703-8b48-bb5c39993a43",
   "metadata": {},
   "source": [
    "### Data Information\n",
    "The dataset used in this project is [HCV](https://archive.ics.uci.edu/ml/datasets/HCV+data), which contains the laboratory values of blood donors and Hepatitis C patients with their demographic values. \n",
    "\n",
    "All attributes except Category and Sex are numerical. \n",
    "\n",
    "The laboratory data are the attributes 5-14. \n",
    "1) X (Patient ID/No.) \n",
    "2) Category (diagnosis) (values: '0=Blood Donor', '0s=suspect Blood Donor', '1=Hepatitis', '2=Fibrosis', '3=Cirrhosis') \n",
    "3) Age (in years) \n",
    "4) Sex (f,m) \n",
    "5) ALB \n",
    "6) ALP \n",
    "7) ALT \n",
    "8) AST \n",
    "9) BIL \n",
    "10) CHE \n",
    "11) CHOL \n",
    "12) CREA \n",
    "13) GGT \n",
    "14) PROT \n",
    "\n",
    "The target attribute for classification is Category: blood donors vs. Hepatitis C patients (including its progress ('just' Hepatitis C, Fibrosis, Cirrhosis). To be more specific, I combined '0s=suspect blood donors' and '0=blood donors' as blood donors. And I combined the category of '1=Hepatitis', '2=Fibrosis' and '3=Cirrhosis' as 1 to represents the patient is Hepatitis C patients. \n",
    "\n",
    "\n",
    "The main goal for this project is to predict whether the patient has Hepatitis C or not (binary response) using the given HCV data. "
   ]
  },
  {
   "cell_type": "markdown",
   "id": "3f547ef8-b560-4c9b-a9fe-5a58cdd654c3",
   "metadata": {},
   "source": [
    "### Data Preparation\n",
    "Create the spark session "
   ]
  },
  {
   "cell_type": "code",
   "execution_count": 1,
   "id": "c00dce51-98e9-4093-bbff-99e5378900c1",
   "metadata": {},
   "outputs": [],
   "source": [
    "import pandas as pd\n",
    "from pyspark.sql import SparkSession\n",
    "spark = SparkSession.builder.master('local[*]').appName('hcv').getOrCreate()"
   ]
  },
  {
   "cell_type": "markdown",
   "id": "8a2fe0d2-276a-4dfa-91fa-de123d973f9a",
   "metadata": {},
   "source": [
    "Read in the data"
   ]
  },
  {
   "cell_type": "code",
   "execution_count": 3,
   "id": "e41a96ac-3f3b-4b86-aeea-2c2528c342e0",
   "metadata": {},
   "outputs": [
    {
     "data": {
      "text/html": [
       "<div>\n",
       "<style scoped>\n",
       "    .dataframe tbody tr th:only-of-type {\n",
       "        vertical-align: middle;\n",
       "    }\n",
       "\n",
       "    .dataframe tbody tr th {\n",
       "        vertical-align: top;\n",
       "    }\n",
       "\n",
       "    .dataframe thead th {\n",
       "        text-align: right;\n",
       "    }\n",
       "</style>\n",
       "<table border=\"1\" class=\"dataframe\">\n",
       "  <thead>\n",
       "    <tr style=\"text-align: right;\">\n",
       "      <th></th>\n",
       "      <th>Unnamed: 0</th>\n",
       "      <th>Category</th>\n",
       "      <th>Age</th>\n",
       "      <th>Sex</th>\n",
       "      <th>ALB</th>\n",
       "      <th>ALP</th>\n",
       "      <th>ALT</th>\n",
       "      <th>AST</th>\n",
       "      <th>BIL</th>\n",
       "      <th>CHE</th>\n",
       "      <th>CHOL</th>\n",
       "      <th>CREA</th>\n",
       "      <th>GGT</th>\n",
       "      <th>PROT</th>\n",
       "    </tr>\n",
       "  </thead>\n",
       "  <tbody>\n",
       "    <tr>\n",
       "      <th>0</th>\n",
       "      <td>1</td>\n",
       "      <td>0=Blood Donor</td>\n",
       "      <td>32</td>\n",
       "      <td>m</td>\n",
       "      <td>38.5</td>\n",
       "      <td>52.5</td>\n",
       "      <td>7.7</td>\n",
       "      <td>22.1</td>\n",
       "      <td>7.5</td>\n",
       "      <td>6.93</td>\n",
       "      <td>3.23</td>\n",
       "      <td>106.0</td>\n",
       "      <td>12.1</td>\n",
       "      <td>69.0</td>\n",
       "    </tr>\n",
       "    <tr>\n",
       "      <th>1</th>\n",
       "      <td>2</td>\n",
       "      <td>0=Blood Donor</td>\n",
       "      <td>32</td>\n",
       "      <td>m</td>\n",
       "      <td>38.5</td>\n",
       "      <td>70.3</td>\n",
       "      <td>18.0</td>\n",
       "      <td>24.7</td>\n",
       "      <td>3.9</td>\n",
       "      <td>11.17</td>\n",
       "      <td>4.80</td>\n",
       "      <td>74.0</td>\n",
       "      <td>15.6</td>\n",
       "      <td>76.5</td>\n",
       "    </tr>\n",
       "    <tr>\n",
       "      <th>2</th>\n",
       "      <td>3</td>\n",
       "      <td>0=Blood Donor</td>\n",
       "      <td>32</td>\n",
       "      <td>m</td>\n",
       "      <td>46.9</td>\n",
       "      <td>74.7</td>\n",
       "      <td>36.2</td>\n",
       "      <td>52.6</td>\n",
       "      <td>6.1</td>\n",
       "      <td>8.84</td>\n",
       "      <td>5.20</td>\n",
       "      <td>86.0</td>\n",
       "      <td>33.2</td>\n",
       "      <td>79.3</td>\n",
       "    </tr>\n",
       "    <tr>\n",
       "      <th>3</th>\n",
       "      <td>4</td>\n",
       "      <td>0=Blood Donor</td>\n",
       "      <td>32</td>\n",
       "      <td>m</td>\n",
       "      <td>43.2</td>\n",
       "      <td>52.0</td>\n",
       "      <td>30.6</td>\n",
       "      <td>22.6</td>\n",
       "      <td>18.9</td>\n",
       "      <td>7.33</td>\n",
       "      <td>4.74</td>\n",
       "      <td>80.0</td>\n",
       "      <td>33.8</td>\n",
       "      <td>75.7</td>\n",
       "    </tr>\n",
       "    <tr>\n",
       "      <th>4</th>\n",
       "      <td>5</td>\n",
       "      <td>0=Blood Donor</td>\n",
       "      <td>32</td>\n",
       "      <td>m</td>\n",
       "      <td>39.2</td>\n",
       "      <td>74.1</td>\n",
       "      <td>32.6</td>\n",
       "      <td>24.8</td>\n",
       "      <td>9.6</td>\n",
       "      <td>9.15</td>\n",
       "      <td>4.32</td>\n",
       "      <td>76.0</td>\n",
       "      <td>29.9</td>\n",
       "      <td>68.7</td>\n",
       "    </tr>\n",
       "  </tbody>\n",
       "</table>\n",
       "</div>"
      ],
      "text/plain": [
       "   Unnamed: 0       Category  Age Sex   ALB   ALP   ALT   AST   BIL    CHE  \\\n",
       "0           1  0=Blood Donor   32   m  38.5  52.5   7.7  22.1   7.5   6.93   \n",
       "1           2  0=Blood Donor   32   m  38.5  70.3  18.0  24.7   3.9  11.17   \n",
       "2           3  0=Blood Donor   32   m  46.9  74.7  36.2  52.6   6.1   8.84   \n",
       "3           4  0=Blood Donor   32   m  43.2  52.0  30.6  22.6  18.9   7.33   \n",
       "4           5  0=Blood Donor   32   m  39.2  74.1  32.6  24.8   9.6   9.15   \n",
       "\n",
       "   CHOL   CREA   GGT  PROT  \n",
       "0  3.23  106.0  12.1  69.0  \n",
       "1  4.80   74.0  15.6  76.5  \n",
       "2  5.20   86.0  33.2  79.3  \n",
       "3  4.74   80.0  33.8  75.7  \n",
       "4  4.32   76.0  29.9  68.7  "
      ]
     },
     "execution_count": 3,
     "metadata": {},
     "output_type": "execute_result"
    }
   ],
   "source": [
    "hcv_data = pd.read_csv('https://archive.ics.uci.edu/ml/machine-learning-databases/00571/hcvdat0.csv')\n",
    "hcv_data.head()"
   ]
  },
  {
   "cell_type": "markdown",
   "id": "767fd9d9-00a2-4145-af5a-bcda6d540e8b",
   "metadata": {},
   "source": [
    "Detect missing value and drop the rows where at least one element is missing"
   ]
  },
  {
   "cell_type": "code",
   "execution_count": 4,
   "id": "739febd9-4398-4839-93d7-d6cdee9414b0",
   "metadata": {},
   "outputs": [
    {
     "data": {
      "text/plain": [
       "Unnamed: 0     0\n",
       "Category       0\n",
       "Age            0\n",
       "Sex            0\n",
       "ALB            1\n",
       "ALP           18\n",
       "ALT            1\n",
       "AST            0\n",
       "BIL            0\n",
       "CHE            0\n",
       "CHOL          10\n",
       "CREA           0\n",
       "GGT            0\n",
       "PROT           1\n",
       "dtype: int64"
      ]
     },
     "execution_count": 4,
     "metadata": {},
     "output_type": "execute_result"
    }
   ],
   "source": [
    "hcv_data.isna().sum()"
   ]
  },
  {
   "cell_type": "code",
   "execution_count": 5,
   "id": "5e651d0a-1b9c-4de2-b926-679d5c57c55b",
   "metadata": {},
   "outputs": [],
   "source": [
    "hcv_data = hcv_data.dropna()"
   ]
  },
  {
   "cell_type": "markdown",
   "id": "8989340c-2d81-47c5-bdba-cc605daf708c",
   "metadata": {},
   "source": [
    "Replace suspect Blood Donor with Blood Donor"
   ]
  },
  {
   "cell_type": "code",
   "execution_count": 6,
   "id": "3775c9ef-05ec-4ca3-9342-26c31c82cb0e",
   "metadata": {},
   "outputs": [],
   "source": [
    "hcv_data.loc[hcv_data['Category'] == '0s=suspect Blood Donor', 'Category'] = '0=Blood Donor'"
   ]
  },
  {
   "cell_type": "markdown",
   "id": "01b6ebf5-234b-49b2-b9df-e373a7b5479d",
   "metadata": {},
   "source": [
    "Convert to a spark SQL data frame"
   ]
  },
  {
   "cell_type": "code",
   "execution_count": 7,
   "id": "5dbffb67-70d9-4e1b-a89e-8b9f18719c1b",
   "metadata": {},
   "outputs": [
    {
     "name": "stderr",
     "output_type": "stream",
     "text": [
      "/usr/local/spark/python/pyspark/sql/pandas/conversion.py:474: FutureWarning: iteritems is deprecated and will be removed in a future version. Use .items instead.\n",
      "  for column, series in pdf.iteritems():\n",
      "/usr/local/spark/python/pyspark/sql/pandas/conversion.py:486: FutureWarning: iteritems is deprecated and will be removed in a future version. Use .items instead.\n",
      "  for column, series in pdf.iteritems():\n"
     ]
    },
    {
     "name": "stdout",
     "output_type": "stream",
     "text": [
      "+----------+-------------+---+---+----+----+----+----+----+-----+----+-----+----+----+\n",
      "|Unnamed: 0|     Category|Age|Sex| ALB| ALP| ALT| AST| BIL|  CHE|CHOL| CREA| GGT|PROT|\n",
      "+----------+-------------+---+---+----+----+----+----+----+-----+----+-----+----+----+\n",
      "|         1|0=Blood Donor| 32|  m|38.5|52.5| 7.7|22.1| 7.5| 6.93|3.23|106.0|12.1|69.0|\n",
      "|         2|0=Blood Donor| 32|  m|38.5|70.3|18.0|24.7| 3.9|11.17| 4.8| 74.0|15.6|76.5|\n",
      "|         3|0=Blood Donor| 32|  m|46.9|74.7|36.2|52.6| 6.1| 8.84| 5.2| 86.0|33.2|79.3|\n",
      "|         4|0=Blood Donor| 32|  m|43.2|52.0|30.6|22.6|18.9| 7.33|4.74| 80.0|33.8|75.7|\n",
      "|         5|0=Blood Donor| 32|  m|39.2|74.1|32.6|24.8| 9.6| 9.15|4.32| 76.0|29.9|68.7|\n",
      "+----------+-------------+---+---+----+----+----+----+----+-----+----+-----+----+----+\n",
      "only showing top 5 rows\n",
      "\n"
     ]
    }
   ],
   "source": [
    "hcv = spark.createDataFrame(hcv_data)\n",
    "hcv.show(5)"
   ]
  },
  {
   "cell_type": "markdown",
   "id": "1928fd4a-c782-4750-9dde-af22cbed2984",
   "metadata": {},
   "source": [
    "## Splitting the Data, Metrics, and Models"
   ]
  },
  {
   "cell_type": "markdown",
   "id": "3d0eecba-c7eb-4c1d-8b06-12506235ad9c",
   "metadata": {},
   "source": [
    "### Metrics\n",
    "#### Test Area Under ROC (ROC AUC)\n",
    "An ROC curve (receiver operating characteristic curve) is a graph showing the performance of a classification model at all classification thresholds. AUC measures the entire two-dimensional area underneath the entire ROC curve (think integral calculus) from (0,0) to (1,1).\n",
    "\n",
    "AUC provides an aggregate measure of performance across all possible classification thresholds. One way of interpreting AUC is as the probability that the model ranks a random positive example more highly than a random negative example. For example, given the following examples, which are arranged from left to right in ascending order of logistic regression predictions:\n",
    "\n",
    "![Predictions ranked in ascending order of logistic regression score](https://developers.google.com/static/machine-learning/crash-course/images/AUCPredictionsRanked.svg)\n",
    "\n",
    "AUC represents the probability that a random positive (green) example is positioned to the right of a random negative (red) example.\n",
    "\n",
    "An excellent model has AUC near to the 1 which means it has a good measure of separability. A poor model has an AUC near 0 which means it has the worst measure of separability. And when AUC is 0.5, it means the model has no class separation capacity whatsoever.\n",
    "\n",
    "##### Advantages:\n",
    "+ AUC is scale-invariant. It measures how well predictions are ranked, rather than their absolute values.\n",
    "+ AUC is classification-threshold-invariant. It measures the quality of the model's predictions irrespective of what classification threshold is chosen.\n",
    "\n",
    "##### Disadvantages:\n",
    "+ Scale invariance is not always desirable. For example, sometimes we really do need well calibrated probability outputs, and AUC won’t tell us about that.\n",
    "+ Classification-threshold invariance is not always desirable. In cases where there are wide disparities in the cost of false negatives vs. false positives, it may be critical to minimize one type of classification error. For example, when doing email spam detection, you likely want to prioritize minimizing false positives (even if that results in a significant increase of false negatives). AUC isn't a useful metric for this type of optimization.\n",
    "\n",
    "More details can be found via [Classification: ROC Curve and AUC](https://developers.google.com/machine-learning/crash-course/classification/roc-and-auc)\n",
    "\n",
    "#### Area under PR (PR AUC)\n",
    "Any prediction relative to labeled data can be a true positive, false positive, true negative, or false negative. The precision-recall curve is constructed by calculating and plotting the precision against the recall for a single classifier at a variety of thresholds. A precision-recall curve helps to visualize how the choice of threshold affects classifier performance, and can even help us select the best threshold for a specific problem.\n",
    "<img src=https://miro.medium.com/v2/resize:fit:1400/format:webp/1*6QPLsDvjo4H6OZrxEBI8Fg.png width = '600'>\n",
    "\n",
    "Generally, the higher the AUC-PR score, the better a classifier performs for the given task. In a perfect classifier, AUC-PR =1. In a “baseline” classifier, the AUC-PR will depend on the fraction of observations belonging to the positive class. For example, in a balanced binary classification data set, the “baseline” classifier will have AUC-PR = 0.5. A classifier that provides some predictive value will fall between the “baseline” and perfect classifiers.\n",
    "\n",
    "##### Advantages:\n",
    "+ Area under PR is a great metrics for communicating precision/recall decision to other stakeholders.\n",
    "+ If care more about the positive class, then using PR AUC, which is more sensitive to the improvements for the positive class.\n",
    "\n",
    "##### Disadvantages:\n",
    "+ When data is heavily imbalanced, PR AUC focuses mainly on the positive class (PPV and TPR) it cares less about the frequent negative class.\n",
    "\n",
    "More details can be found via [Precision-Recall Curves](https://medium.com/@douglaspsteen/precision-recall-curves-d32e5b290248)\n",
    "\n",
    "#### ROC AUC vs PR AUC\n",
    "What is common between ROC AUC and PR AUC is that they both look at prediction scores of classification models and not thresholded class assignments. What is different however is that ROC AUC looks at a true positive rate TPR and false positive rate FPR while PR AUC looks at positive predictive value PPV and true positive rate TPR. ROC uses what's in the data, PR uses what's in the prediction as a basis.\n",
    "\n",
    "In general, if you care equally about the positive and negative class or your dataset is quite balanced, then going with ROC AUC is a good idea."
   ]
  },
  {
   "cell_type": "markdown",
   "id": "5135bde4-101a-496f-b004-ac4cf25ce39f",
   "metadata": {},
   "source": [
    "### Splitting the Data\n",
    "A goal of supervised learning is to build a model that performs well on new data, which train test split helps you simulate. To be more specific, by using similar data for training and testing, you can minimize the effects of data discrepancies and better understand the characteristics of the model. After a model has been processed by using the training set, you test the model by making predictions against the test set. \n",
    "\n",
    "And this process should always be done before doing transformations. Since if we do transformations on the training set, we want to use the exact same transformations on the test set.\n"
   ]
  },
  {
   "cell_type": "code",
   "execution_count": 8,
   "id": "3e55c09e-184b-4268-9fe9-bfbd6775e006",
   "metadata": {},
   "outputs": [],
   "source": [
    "train, test = hcv.randomSplit([0.8,0.2], seed = 1)"
   ]
  },
  {
   "cell_type": "markdown",
   "id": "1c3ca171-c193-4321-970a-1c2347f1b01b",
   "metadata": {},
   "source": [
    "### Transformation"
   ]
  },
  {
   "cell_type": "markdown",
   "id": "877caf27-a6e8-4964-b6a9-b658bd60367d",
   "metadata": {},
   "source": [
    "Create dummy variables"
   ]
  },
  {
   "cell_type": "code",
   "execution_count": 9,
   "id": "1a1a171a-3661-4e6b-a7b1-f86355c26146",
   "metadata": {},
   "outputs": [
    {
     "data": {
      "text/plain": [
       "DataFrame[Unnamed: 0: bigint, Category: string, Age: bigint, Sex: string, ALB: double, ALP: double, ALT: double, AST: double, BIL: double, CHE: double, CHOL: double, CREA: double, GGT: double, PROT: double, category_numeric: double, Sex_indicator: double]"
      ]
     },
     "execution_count": 9,
     "metadata": {},
     "output_type": "execute_result"
    }
   ],
   "source": [
    "from pyspark.ml.feature import SQLTransformer, StringIndexer, Binarizer, VectorAssembler\n",
    "indexer = StringIndexer(inputCols = ['Category', 'Sex'], outputCols = ['category_numeric', 'Sex_indicator'])\n",
    "indexerTrans = indexer.fit(hcv)\n",
    "indexerTrans.transform(hcv)"
   ]
  },
  {
   "cell_type": "markdown",
   "id": "7213eb96-7865-4e4e-9dff-495881f4fade",
   "metadata": {},
   "source": [
    "Convert to a 0/1 indicator"
   ]
  },
  {
   "cell_type": "code",
   "execution_count": 10,
   "id": "60029696-de89-47c7-afd2-2122f8bd907c",
   "metadata": {},
   "outputs": [
    {
     "data": {
      "text/plain": [
       "DataFrame[Unnamed: 0: bigint, Category: string, Age: bigint, Sex: string, ALB: double, ALP: double, ALT: double, AST: double, BIL: double, CHE: double, CHOL: double, CREA: double, GGT: double, PROT: double, category_numeric: double, Sex_indicator: double, category_indicator: double]"
      ]
     },
     "execution_count": 10,
     "metadata": {},
     "output_type": "execute_result"
    }
   ],
   "source": [
    "binaryTrans = Binarizer(threshold = 0.5, inputCol = 'category_numeric', outputCol = 'category_indicator')\n",
    "binaryTrans.transform(\n",
    "    indexerTrans.transform(hcv))"
   ]
  },
  {
   "cell_type": "code",
   "execution_count": 11,
   "id": "9236c3af-5ee0-4898-b658-b8d816ed8040",
   "metadata": {},
   "outputs": [],
   "source": [
    "sqlTrans = SQLTransformer(\n",
    "    statement = \"\"\"\n",
    "                SELECT Age, ALB, ALP, ALT, AST, BIL, CHE, CHOL, CREA, GGT, PROT, Sex_indicator, category_indicator as label FROM __THIS__\n",
    "                \"\"\"\n",
    ")"
   ]
  },
  {
   "cell_type": "code",
   "execution_count": 12,
   "id": "67ffc49b-8536-4fa4-b515-951fe38d0d50",
   "metadata": {},
   "outputs": [
    {
     "name": "stdout",
     "output_type": "stream",
     "text": [
      "+---+----+----+----+----+----+-----+----+-----+----+----+-------------+-----+\n",
      "|Age| ALB| ALP| ALT| AST| BIL|  CHE|CHOL| CREA| GGT|PROT|Sex_indicator|label|\n",
      "+---+----+----+----+----+----+-----+----+-----+----+----+-------------+-----+\n",
      "| 32|38.5|52.5| 7.7|22.1| 7.5| 6.93|3.23|106.0|12.1|69.0|          0.0|  0.0|\n",
      "| 32|38.5|70.3|18.0|24.7| 3.9|11.17| 4.8| 74.0|15.6|76.5|          0.0|  0.0|\n",
      "| 32|46.9|74.7|36.2|52.6| 6.1| 8.84| 5.2| 86.0|33.2|79.3|          0.0|  0.0|\n",
      "| 32|43.2|52.0|30.6|22.6|18.9| 7.33|4.74| 80.0|33.8|75.7|          0.0|  0.0|\n",
      "| 32|39.2|74.1|32.6|24.8| 9.6| 9.15|4.32| 76.0|29.9|68.7|          0.0|  0.0|\n",
      "| 32|41.6|43.3|18.5|19.7|12.3| 9.92|6.05|111.0|91.0|74.0|          0.0|  0.0|\n",
      "| 32|46.3|41.3|17.5|17.8| 8.5| 7.01|4.79| 70.0|16.9|74.5|          0.0|  0.0|\n",
      "| 32|42.2|41.9|35.8|31.1|16.1| 5.82| 4.6|109.0|21.5|67.1|          0.0|  0.0|\n",
      "| 32|50.9|65.5|23.2|21.2| 6.9| 8.69| 4.1| 83.0|13.7|71.3|          0.0|  0.0|\n",
      "| 32|42.4|86.3|20.3|20.0|35.2| 5.46|4.45| 81.0|15.9|69.9|          0.0|  0.0|\n",
      "+---+----+----+----+----+----+-----+----+-----+----+----+-------------+-----+\n",
      "only showing top 10 rows\n",
      "\n"
     ]
    }
   ],
   "source": [
    "sqlTrans.transform(\n",
    "    binaryTrans.transform(\n",
    "        indexerTrans.transform(hcv)\n",
    "    )\n",
    ").show(10)"
   ]
  },
  {
   "cell_type": "markdown",
   "id": "40bd10ef-daaf-408b-9e28-8f7c6ea4a196",
   "metadata": {},
   "source": [
    "Put the predictors into features"
   ]
  },
  {
   "cell_type": "code",
   "execution_count": 13,
   "id": "389b66da-ac47-4307-aa43-219bc37de859",
   "metadata": {},
   "outputs": [],
   "source": [
    "assembler = VectorAssembler(inputCols = ['Age', 'ALB', 'ALP', 'ALT', 'AST', 'BIL', 'CHE', 'CHOL', 'CREA', 'GGT', 'PROT', 'Sex_indicator'], outputCol = 'features', handleInvalid = 'keep')"
   ]
  },
  {
   "cell_type": "code",
   "execution_count": 14,
   "id": "1e79a156-d7a1-484a-99b7-ab0b2c9e4cd4",
   "metadata": {},
   "outputs": [
    {
     "name": "stdout",
     "output_type": "stream",
     "text": [
      "+---+----+----+----+----+----+-----+----+-----+----+----+-------------+-----+--------------------+\n",
      "|Age| ALB| ALP| ALT| AST| BIL|  CHE|CHOL| CREA| GGT|PROT|Sex_indicator|label|            features|\n",
      "+---+----+----+----+----+----+-----+----+-----+----+----+-------------+-----+--------------------+\n",
      "| 32|38.5|52.5| 7.7|22.1| 7.5| 6.93|3.23|106.0|12.1|69.0|          0.0|  0.0|[32.0,38.5,52.5,7...|\n",
      "| 32|38.5|70.3|18.0|24.7| 3.9|11.17| 4.8| 74.0|15.6|76.5|          0.0|  0.0|[32.0,38.5,70.3,1...|\n",
      "| 32|46.9|74.7|36.2|52.6| 6.1| 8.84| 5.2| 86.0|33.2|79.3|          0.0|  0.0|[32.0,46.9,74.7,3...|\n",
      "| 32|43.2|52.0|30.6|22.6|18.9| 7.33|4.74| 80.0|33.8|75.7|          0.0|  0.0|[32.0,43.2,52.0,3...|\n",
      "| 32|39.2|74.1|32.6|24.8| 9.6| 9.15|4.32| 76.0|29.9|68.7|          0.0|  0.0|[32.0,39.2,74.1,3...|\n",
      "| 32|41.6|43.3|18.5|19.7|12.3| 9.92|6.05|111.0|91.0|74.0|          0.0|  0.0|[32.0,41.6,43.3,1...|\n",
      "| 32|46.3|41.3|17.5|17.8| 8.5| 7.01|4.79| 70.0|16.9|74.5|          0.0|  0.0|[32.0,46.3,41.3,1...|\n",
      "| 32|42.2|41.9|35.8|31.1|16.1| 5.82| 4.6|109.0|21.5|67.1|          0.0|  0.0|[32.0,42.2,41.9,3...|\n",
      "| 32|50.9|65.5|23.2|21.2| 6.9| 8.69| 4.1| 83.0|13.7|71.3|          0.0|  0.0|[32.0,50.9,65.5,2...|\n",
      "| 32|42.4|86.3|20.3|20.0|35.2| 5.46|4.45| 81.0|15.9|69.9|          0.0|  0.0|[32.0,42.4,86.3,2...|\n",
      "+---+----+----+----+----+----+-----+----+-----+----+----+-------------+-----+--------------------+\n",
      "only showing top 10 rows\n",
      "\n"
     ]
    }
   ],
   "source": [
    "assembler.transform(\n",
    "    sqlTrans.transform(\n",
    "        binaryTrans.transform(\n",
    "            indexerTrans.transform(hcv)\n",
    "        )\n",
    "    )\n",
    ").show(10)"
   ]
  },
  {
   "cell_type": "markdown",
   "id": "a60436d8-0109-41ab-bf51-e6c5c73aac64",
   "metadata": {},
   "source": [
    "### Models\n",
    "+ Logistic Regression\n",
    "\n",
    "Logistic Regression is a “Supervised machine learning” algorithm that can be used to model the probability of a certain class or event. It is used when the data is linearly separable and the outcome is binary or dichotomous in nature. That means Logistic regression is usually used for Binary classification problems.\n",
    "\n",
    "In logistic regression in order to map the predicted values to probabilities, sigmoid function is used. This function maps any real value into another value between 0 to 1. This function has a non-negative derivative at each point and exactly one inflection point.\n",
    "\n",
    "Logistic regression can be extended and further classified into three different types that are as mentioned below:\n",
    "\n",
    "+ Binomial: Where the target variable can have only two possible types.\n",
    "+ Multinomial: Where the target variable have three or more possible types, which may not have any quantitative significance. \n",
    "+ Ordinal: Where the target variables have ordered categories."
   ]
  },
  {
   "cell_type": "markdown",
   "id": "015c6b7c-5a1c-459a-81ba-7a81b4a61522",
   "metadata": {},
   "source": [
    "Configure an ML pipeline"
   ]
  },
  {
   "cell_type": "code",
   "execution_count": 15,
   "id": "b398dc98-e80e-4542-b50c-110f36a5f4b0",
   "metadata": {},
   "outputs": [],
   "source": [
    "from pyspark.ml.classification import LogisticRegression\n",
    "from pyspark.ml import Pipeline\n",
    "lr = LogisticRegression(featuresCol = 'features', labelCol = 'label', maxIter = 10)\n",
    "pipeline1 = Pipeline(stages = [indexerTrans, binaryTrans, sqlTrans, assembler, lr])"
   ]
  },
  {
   "cell_type": "markdown",
   "id": "f0011068-1b63-4275-b544-342e379ebc4b",
   "metadata": {},
   "source": [
    "Create ParamGrid for cross validation"
   ]
  },
  {
   "cell_type": "code",
   "execution_count": 16,
   "id": "92964950-3cb7-4287-96c4-da6113976fb0",
   "metadata": {},
   "outputs": [],
   "source": [
    "from pyspark.ml.tuning import CrossValidator, ParamGridBuilder\n",
    "paramGrid1 = ParamGridBuilder() \\\n",
    "    .addGrid(lr.regParam, [0.01, 0.1, 0.5, 1.0, 2.0]) \\\n",
    "    .addGrid(lr.elasticNetParam, [0.0, 0.25, 0.5, 0.75, 1.0]) \\\n",
    "    .build()"
   ]
  },
  {
   "cell_type": "markdown",
   "id": "7505d9dd-f47d-446b-a0a8-42c06ffa67b1",
   "metadata": {},
   "source": [
    "Run cross-validation and choose the best set of parameters"
   ]
  },
  {
   "cell_type": "code",
   "execution_count": 18,
   "id": "61611d40-8bee-4fa6-86ae-8221733a82bd",
   "metadata": {},
   "outputs": [],
   "source": [
    "from pyspark.ml.evaluation import BinaryClassificationEvaluator\n",
    "crossval1 = CrossValidator(estimator = pipeline1,\n",
    "                          estimatorParamMaps = paramGrid1,\n",
    "                          evaluator = BinaryClassificationEvaluator(metricName = 'areaUnderROC'),\n",
    "                          numFolds = 5) "
   ]
  },
  {
   "cell_type": "code",
   "execution_count": 19,
   "id": "c4b31e05-351b-41c2-b002-98b8eb6ebc55",
   "metadata": {},
   "outputs": [],
   "source": [
    "crossval1_1 = CrossValidator(estimator = pipeline1,\n",
    "                          estimatorParamMaps = paramGrid1,\n",
    "                          evaluator = BinaryClassificationEvaluator(metricName = 'areaUnderPR'),\n",
    "                          numFolds = 5) "
   ]
  },
  {
   "cell_type": "markdown",
   "id": "53dec066-d89b-46f0-a331-40e2c1c60f23",
   "metadata": {},
   "source": [
    "+ Descision tree\n",
    "\n",
    "Decision Trees are used for both regression and classification problems. They visually flow like trees, hence the name, and in the classification case, they start with the root of the tree and follow binary splits based on variable outcomes until a leaf node is reached and the final binary result is given. \n",
    "\n",
    "Decision trees are widely used since they are easy to interpret, handle categorical features, extend to the multiclass classification setting, do not require feature scaling, and are able to capture non-linearities and feature interactions. Tree ensemble algorithms such as random forests and boosting are among the top performers for classification and regression tasks."
   ]
  },
  {
   "cell_type": "markdown",
   "id": "33397263-a496-4ff7-acb4-483fd6572d8c",
   "metadata": {},
   "source": [
    "Configure an ML pipeline"
   ]
  },
  {
   "cell_type": "code",
   "execution_count": 48,
   "id": "86324c44-5176-4297-931e-b5ac04623f98",
   "metadata": {},
   "outputs": [],
   "source": [
    "from pyspark.ml.classification import DecisionTreeClassifier\n",
    "dt = DecisionTreeClassifier(featuresCol = 'features', labelCol = 'label', maxDepth = 3)\n",
    "pipeline2 = Pipeline(stages = [indexerTrans, binaryTrans, sqlTrans, assembler, dt])"
   ]
  },
  {
   "cell_type": "markdown",
   "id": "251ee029-6281-4ad0-b2fb-c23ed5c85d28",
   "metadata": {},
   "source": [
    "Create ParamGrid for cross validation"
   ]
  },
  {
   "cell_type": "code",
   "execution_count": 49,
   "id": "4b63ec7f-28a4-4b00-9b74-0967191e45fd",
   "metadata": {},
   "outputs": [],
   "source": [
    "paramGrid2 = (ParamGridBuilder()\n",
    "             .addGrid(dt.maxDepth, [2, 5, 10, 20, 30])\n",
    "             .addGrid(dt.maxBins, [10, 20, 40, 80, 100])\n",
    "             .build())"
   ]
  },
  {
   "cell_type": "markdown",
   "id": "4118255b-f9de-425f-98cd-a095fed87a4e",
   "metadata": {},
   "source": [
    "Run cross-validation and choose the best set of parameters"
   ]
  },
  {
   "cell_type": "code",
   "execution_count": 50,
   "id": "e13224ae-5119-45ef-935a-285566d7ef36",
   "metadata": {},
   "outputs": [],
   "source": [
    "crossval2 = CrossValidator(estimator = pipeline2,\n",
    "                          estimatorParamMaps = paramGrid2,\n",
    "                          evaluator = BinaryClassificationEvaluator(metricName = 'areaUnderROC'),\n",
    "                          numFolds = 5) "
   ]
  },
  {
   "cell_type": "code",
   "execution_count": 51,
   "id": "1166ac3e-221e-4f45-8177-a4090d2aad72",
   "metadata": {},
   "outputs": [],
   "source": [
    "crossval2_1 = CrossValidator(estimator = pipeline2,\n",
    "                          estimatorParamMaps = paramGrid2,\n",
    "                          evaluator = BinaryClassificationEvaluator(metricName = 'areaUnderPR'),\n",
    "                          numFolds = 5) "
   ]
  },
  {
   "cell_type": "markdown",
   "id": "6706a5e1-332b-40f4-b041-ffd59136d09b",
   "metadata": {},
   "source": [
    "+ Random Forest Classifer\n",
    "\n",
    "Random forests are ensembles of decision trees. Random forests combine many decision trees in order to reduce the risk of overfitting. The spark.ml implementation supports random forests for binary and multiclass classification and for regression, using both continuous and categorical features.\n",
    "\n",
    "If strong predictor, every bootstrap tree will probably use for first split and make more correlated. Thus, random forest considers split using random subset, which is built on decision trees. It contains many decision trees representing a distinct instance of the classification of data input into the random forest. "
   ]
  },
  {
   "cell_type": "markdown",
   "id": "a2568b00-2a36-4c5f-af97-ddb955f7533f",
   "metadata": {},
   "source": [
    "Configure an ML pipeline"
   ]
  },
  {
   "cell_type": "code",
   "execution_count": 52,
   "id": "dfb9e63b-915b-403e-b366-81cdf4274b3e",
   "metadata": {},
   "outputs": [],
   "source": [
    "from pyspark.ml.classification import RandomForestClassifier\n",
    "rf = RandomForestClassifier(featuresCol = 'features', labelCol = 'label')\n",
    "pipeline3 = Pipeline(stages = [indexerTrans, binaryTrans, sqlTrans, assembler, rf])"
   ]
  },
  {
   "cell_type": "markdown",
   "id": "dcf24b41-400b-4eb9-8e85-ab632553b513",
   "metadata": {},
   "source": [
    "Create ParamGrid for cross validation"
   ]
  },
  {
   "cell_type": "code",
   "execution_count": 53,
   "id": "fbbab39f-a6df-4608-8b13-397406ba5e1c",
   "metadata": {},
   "outputs": [],
   "source": [
    "paramGrid3 = ParamGridBuilder() \\\n",
    "             .addGrid(rf.maxDepth, [2, 5, 10, 20, 30]) \\\n",
    "             .addGrid(rf.maxBins, [10, 20, 40, 80, 100]) \\\n",
    "             .build()"
   ]
  },
  {
   "cell_type": "markdown",
   "id": "4b7469b2-c361-4ea4-a5de-66a204a14ca1",
   "metadata": {},
   "source": [
    "Run cross-validation and choose the best set of parameters"
   ]
  },
  {
   "cell_type": "code",
   "execution_count": 54,
   "id": "51b893be-3cae-4e1e-b67d-05c056af2aeb",
   "metadata": {},
   "outputs": [],
   "source": [
    "crossval3 = CrossValidator(estimator = pipeline3,\n",
    "                          estimatorParamMaps = paramGrid3,\n",
    "                          evaluator = BinaryClassificationEvaluator(metricName = 'areaUnderROC'),\n",
    "                          numFolds = 5) "
   ]
  },
  {
   "cell_type": "code",
   "execution_count": 55,
   "id": "2d639c0e-a4f5-4e05-b77d-74a20bb81f82",
   "metadata": {},
   "outputs": [],
   "source": [
    "crossval3_1 = CrossValidator(estimator = pipeline3,\n",
    "                          estimatorParamMaps = paramGrid3,\n",
    "                          evaluator = BinaryClassificationEvaluator(metricName = 'areaUnderPR'),\n",
    "                          numFolds = 5) "
   ]
  },
  {
   "cell_type": "markdown",
   "id": "05188840-4377-44a1-92d5-1f7b628a980a",
   "metadata": {},
   "source": [
    "+ One-vs-Rest classifier (a.k.a. One-vs-All)\n",
    "\n",
    "OneVsRest is an example of a machine learning reduction for performing multiclass classification given a base classifier that can perform binary classification efficiently. It is also known as “One-vs-All.”\n",
    "\n",
    "OneVsRest is implemented as an Estimator. For the base classifier, it takes instances of Classifier and creates a binary classification problem for each of the k classes. The classifier for class i is trained to predict whether the label is i or not, distinguishing class i from all other classes.\n",
    "\n",
    "Predictions are done by evaluating each binary classifier and the index of the most confident classifier is output as label."
   ]
  },
  {
   "cell_type": "markdown",
   "id": "be11fbc9-9bf3-4240-b1ff-989a7fde9863",
   "metadata": {},
   "source": [
    "Configure an ML pipeline"
   ]
  },
  {
   "cell_type": "code",
   "execution_count": 57,
   "id": "a295aafe-2912-40f1-b41c-66a71b5fc684",
   "metadata": {},
   "outputs": [],
   "source": [
    "from pyspark.ml.classification import OneVsRest, LinearSVC\n",
    "LSVC = LinearSVC()\n",
    "ovr = OneVsRest(classifier = LSVC, featuresCol = 'features', labelCol = 'label')\n",
    "pipeline4 = Pipeline(stages = [indexerTrans, binaryTrans, sqlTrans, assembler, ovr])                "
   ]
  },
  {
   "cell_type": "markdown",
   "id": "ec1f34db-a5f3-4e84-af18-682d8a17d256",
   "metadata": {},
   "source": [
    "Create ParamGrid for cross validation"
   ]
  },
  {
   "cell_type": "code",
   "execution_count": 58,
   "id": "29bbb97b-02fb-4259-b8f7-068d356a4bfe",
   "metadata": {},
   "outputs": [],
   "source": [
    "paramGrid4 = ParamGridBuilder() \\\n",
    "            .addGrid(LSVC.maxIter, [10, 100]) \\\n",
    "            .addGrid(LSVC.regParam,[0.001, 0.01, 1.0,10.0]) \\\n",
    "            .build()"
   ]
  },
  {
   "cell_type": "markdown",
   "id": "3217be00-f1af-4da1-bec6-a77f731a0017",
   "metadata": {},
   "source": [
    "Run cross-validation and choose the best set of parameters"
   ]
  },
  {
   "cell_type": "code",
   "execution_count": 59,
   "id": "f7a1f676-98c0-46e9-bb19-6258294c1841",
   "metadata": {},
   "outputs": [],
   "source": [
    "crossval4 = CrossValidator(estimator = pipeline4,\n",
    "                          estimatorParamMaps = paramGrid4,\n",
    "                          evaluator = BinaryClassificationEvaluator(metricName = 'areaUnderROC'),\n",
    "                          numFolds = 5) "
   ]
  },
  {
   "cell_type": "code",
   "execution_count": 60,
   "id": "359e2223-8faa-42ec-b25c-e6768997acc8",
   "metadata": {},
   "outputs": [],
   "source": [
    "crossval4_1 = CrossValidator(estimator = pipeline4,\n",
    "                          estimatorParamMaps = paramGrid4,\n",
    "                          evaluator = BinaryClassificationEvaluator(metricName = 'areaUnderPR'),\n",
    "                          numFolds = 5) "
   ]
  },
  {
   "cell_type": "markdown",
   "id": "69d215ef-af0c-460f-89f7-519b7e458214",
   "metadata": {},
   "source": [
    "+ Gradient-Boosted Tree Classifier\n",
    "\n",
    "Gradient Boosting is a functional gradient algorithm that repeatedly selects a function that leads in the direction of a weak hypothesis or negative gradient so that it can minimize a loss function. Gradient boosting classifier combines several weak learning models to produce a powerful predicting model.\n",
    "\n",
    "Gradient boosting involves three elements:\n",
    "\n",
    "+ A loss function to be optimized.\n",
    "+ A weak learner to make predictions.\n",
    "+ An additive model to add weak learners to minimize the loss function.\n"
   ]
  },
  {
   "cell_type": "markdown",
   "id": "2e39b525-85dc-4e1a-801d-cf1cb4856369",
   "metadata": {},
   "source": [
    "Configure an ML pipeline"
   ]
  },
  {
   "cell_type": "code",
   "execution_count": 62,
   "id": "fe60db48-2fe4-4fad-b774-86bceb86d835",
   "metadata": {},
   "outputs": [],
   "source": [
    "from pyspark.ml.classification import GBTClassifier\n",
    "gbt = GBTClassifier(maxIter=10, featuresCol = 'features', labelCol = 'label')\n",
    "pipeline5 = Pipeline(stages = [indexerTrans, binaryTrans, sqlTrans, assembler, gbt])"
   ]
  },
  {
   "cell_type": "markdown",
   "id": "025d3c08-fa14-4a8a-bb11-3bee4487c4a3",
   "metadata": {},
   "source": [
    "Create ParamGrid for cross validation"
   ]
  },
  {
   "cell_type": "code",
   "execution_count": 63,
   "id": "5a70dfb8-9540-4bb6-95ad-42baeb601ced",
   "metadata": {},
   "outputs": [],
   "source": [
    "paramGrid5 = ParamGridBuilder() \\\n",
    "            .addGrid(gbt.maxIter, [10, 20]) \\\n",
    "            .addGrid(gbt.maxDepth, [2, 5, 10]) \\\n",
    "            .addGrid(gbt.maxBins, [10, 40, 80]) \\\n",
    "            .build()"
   ]
  },
  {
   "cell_type": "markdown",
   "id": "925aba3b-c99f-449c-9df5-f9745a95b2fc",
   "metadata": {},
   "source": [
    "Run cross-validation and choose the best set of parameters"
   ]
  },
  {
   "cell_type": "code",
   "execution_count": 64,
   "id": "7c1588c5-925f-43d5-95fc-b0029322ae36",
   "metadata": {},
   "outputs": [],
   "source": [
    "crossval5 = CrossValidator(estimator = pipeline5,\n",
    "                          estimatorParamMaps = paramGrid5,\n",
    "                          evaluator = BinaryClassificationEvaluator(metricName = 'areaUnderROC'),\n",
    "                          numFolds = 5) "
   ]
  },
  {
   "cell_type": "code",
   "execution_count": 65,
   "id": "7e1ea863-90f6-4331-bce8-568c853a3d62",
   "metadata": {},
   "outputs": [],
   "source": [
    "crossval5_1 = CrossValidator(estimator = pipeline5,\n",
    "                          estimatorParamMaps = paramGrid5,\n",
    "                          evaluator = BinaryClassificationEvaluator(metricName = 'areaUnderPR'),\n",
    "                          numFolds = 5) "
   ]
  },
  {
   "cell_type": "markdown",
   "id": "0ef52214-d978-4cef-a196-fae5b74d6ece",
   "metadata": {},
   "source": [
    "## Model Fitting"
   ]
  },
  {
   "cell_type": "markdown",
   "id": "df8218b1-87c8-4200-ad89-642d92e3d465",
   "metadata": {},
   "source": [
    "+ Logistic Regression"
   ]
  },
  {
   "cell_type": "markdown",
   "id": "cc5df81b-252c-427d-b3c8-e5b215d47f2f",
   "metadata": {},
   "source": [
    "Fit the model with cross validation using areaUnderROC metric"
   ]
  },
  {
   "cell_type": "code",
   "execution_count": 23,
   "id": "585464ef-a426-4746-9f07-6179169b4f13",
   "metadata": {},
   "outputs": [
    {
     "name": "stdout",
     "output_type": "stream",
     "text": [
      "+---+----+----+----+----+----+----+----+-----+----+----+-------------+-----+--------------------+--------------------+--------------------+----------+\n",
      "|Age| ALB| ALP| ALT| AST| BIL| CHE|CHOL| CREA| GGT|PROT|Sex_indicator|label|            features|       rawPrediction|         probability|prediction|\n",
      "+---+----+----+----+----+----+----+----+-----+----+----+-------------+-----+--------------------+--------------------+--------------------+----------+\n",
      "| 32|39.2|74.1|32.6|24.8| 9.6|9.15|4.32| 76.0|29.9|68.7|          0.0|  0.0|[32.0,39.2,74.1,3...|[4.39100438168772...|[0.98776331112521...|       0.0|\n",
      "| 33|39.0|51.7|15.9|24.0| 6.8|6.46|3.38| 65.0| 7.0|70.4|          0.0|  0.0|[33.0,39.0,51.7,1...|[2.94809674541979...|[0.95017345819235...|       0.0|\n",
      "| 33|38.7|39.8|22.5|23.0| 4.1|4.63|4.97| 63.0|15.2|71.9|          0.0|  0.0|[33.0,38.7,39.8,2...|[3.44834239436967...|[0.96918166883337...|       0.0|\n",
      "| 33|41.8|65.0|33.1|38.0| 6.6|8.83|4.43| 71.0|24.0|72.7|          0.0|  0.0|[33.0,41.8,65.0,3...|[3.74268638213045...|[0.97685786960545...|       0.0|\n",
      "| 33|45.2|88.3|32.4|31.2|10.1|9.78|5.51|102.0|48.5|76.5|          0.0|  0.0|[33.0,45.2,88.3,3...|[3.98572254903620...|[0.98175986845936...|       0.0|\n",
      "+---+----+----+----+----+----+----+----+-----+----+----+-------------+-----+--------------------+--------------------+--------------------+----------+\n",
      "only showing top 5 rows\n",
      "\n"
     ]
    }
   ],
   "source": [
    "cvModel1 = crossval1.fit(train)\n",
    "cvModel1.transform(test).show(5)"
   ]
  },
  {
   "cell_type": "markdown",
   "id": "e5f3bb38-0bcb-4670-89c7-f07fdf12ea0a",
   "metadata": {},
   "source": [
    "Fit the model with cross validation using areaUnderPR metric"
   ]
  },
  {
   "cell_type": "code",
   "execution_count": 33,
   "id": "42534c96-872d-4347-b87e-e892e296b823",
   "metadata": {},
   "outputs": [
    {
     "name": "stdout",
     "output_type": "stream",
     "text": [
      "+---+----+----+----+----+----+----+----+-----+----+----+-------------+-----+--------------------+--------------------+--------------------+----------+\n",
      "|Age| ALB| ALP| ALT| AST| BIL| CHE|CHOL| CREA| GGT|PROT|Sex_indicator|label|            features|       rawPrediction|         probability|prediction|\n",
      "+---+----+----+----+----+----+----+----+-----+----+----+-------------+-----+--------------------+--------------------+--------------------+----------+\n",
      "| 32|39.2|74.1|32.6|24.8| 9.6|9.15|4.32| 76.0|29.9|68.7|          0.0|  0.0|[32.0,39.2,74.1,3...|[3.94024607603227...|[0.98092740702406...|       0.0|\n",
      "| 33|39.0|51.7|15.9|24.0| 6.8|6.46|3.38| 65.0| 7.0|70.4|          0.0|  0.0|[33.0,39.0,51.7,1...|[2.72781381482310...|[0.93864806007784...|       0.0|\n",
      "| 33|38.7|39.8|22.5|23.0| 4.1|4.63|4.97| 63.0|15.2|71.9|          0.0|  0.0|[33.0,38.7,39.8,2...|[3.54728115462578...|[0.97200353406240...|       0.0|\n",
      "| 33|41.8|65.0|33.1|38.0| 6.6|8.83|4.43| 71.0|24.0|72.7|          0.0|  0.0|[33.0,41.8,65.0,3...|[3.42982053982538...|[0.96862361407329...|       0.0|\n",
      "| 33|45.2|88.3|32.4|31.2|10.1|9.78|5.51|102.0|48.5|76.5|          0.0|  0.0|[33.0,45.2,88.3,3...|[3.70395104708539...|[0.97596583092202...|       0.0|\n",
      "+---+----+----+----+----+----+----+----+-----+----+----+-------------+-----+--------------------+--------------------+--------------------+----------+\n",
      "only showing top 5 rows\n",
      "\n"
     ]
    }
   ],
   "source": [
    "cvModel1_1 = crossval1_1.fit(train)\n",
    "cvModel1_1.transform(test).show(5)"
   ]
  },
  {
   "cell_type": "markdown",
   "id": "afedb9a0-42ab-410a-909c-5394a6474cce",
   "metadata": {},
   "source": [
    "+ Decision Tree"
   ]
  },
  {
   "cell_type": "markdown",
   "id": "5dd5e210-0e71-4e39-ae7e-47bb83d07254",
   "metadata": {},
   "source": [
    "Fit the model with cross validation using areaUnderROC metric"
   ]
  },
  {
   "cell_type": "code",
   "execution_count": 49,
   "id": "16ebf873-d8af-421d-a149-1e47d1524045",
   "metadata": {},
   "outputs": [
    {
     "name": "stderr",
     "output_type": "stream",
     "text": [
      "Exception ignored in: <function JavaWrapper.__del__ at 0x7f2b72797ac0>\n",
      "Traceback (most recent call last):\n",
      "  File \"/usr/local/spark/python/pyspark/ml/wrapper.py\", line 53, in __del__\n",
      "    if SparkContext._active_spark_context and self._java_obj is not None:\n",
      "AttributeError: 'BinaryClassificationEvaluator' object has no attribute '_java_obj'\n"
     ]
    },
    {
     "name": "stdout",
     "output_type": "stream",
     "text": [
      "+---+----+----+----+----+----+----+----+-----+----+----+-------------+-----+--------------------+-------------+-----------+----------+\n",
      "|Age| ALB| ALP| ALT| AST| BIL| CHE|CHOL| CREA| GGT|PROT|Sex_indicator|label|            features|rawPrediction|probability|prediction|\n",
      "+---+----+----+----+----+----+----+----+-----+----+----+-------------+-----+--------------------+-------------+-----------+----------+\n",
      "| 32|39.2|74.1|32.6|24.8| 9.6|9.15|4.32| 76.0|29.9|68.7|          0.0|  0.0|[32.0,39.2,74.1,3...|  [374.0,0.0]|  [1.0,0.0]|       0.0|\n",
      "| 33|39.0|51.7|15.9|24.0| 6.8|6.46|3.38| 65.0| 7.0|70.4|          0.0|  0.0|[33.0,39.0,51.7,1...|  [374.0,0.0]|  [1.0,0.0]|       0.0|\n",
      "| 33|38.7|39.8|22.5|23.0| 4.1|4.63|4.97| 63.0|15.2|71.9|          0.0|  0.0|[33.0,38.7,39.8,2...|   [19.0,0.0]|  [1.0,0.0]|       0.0|\n",
      "| 33|41.8|65.0|33.1|38.0| 6.6|8.83|4.43| 71.0|24.0|72.7|          0.0|  0.0|[33.0,41.8,65.0,3...|  [374.0,0.0]|  [1.0,0.0]|       0.0|\n",
      "| 33|45.2|88.3|32.4|31.2|10.1|9.78|5.51|102.0|48.5|76.5|          0.0|  0.0|[33.0,45.2,88.3,3...|  [374.0,0.0]|  [1.0,0.0]|       0.0|\n",
      "+---+----+----+----+----+----+----+----+-----+----+----+-------------+-----+--------------------+-------------+-----------+----------+\n",
      "only showing top 5 rows\n",
      "\n"
     ]
    }
   ],
   "source": [
    "cvModel2 = crossval2.fit(train)\n",
    "cvModel2.transform(test).show(5)"
   ]
  },
  {
   "cell_type": "markdown",
   "id": "0d325a29-5ec0-4cbc-a2ca-55ae81e02e07",
   "metadata": {},
   "source": [
    "Fit the model with cross validation using areaUnderPR metric"
   ]
  },
  {
   "cell_type": "code",
   "execution_count": 67,
   "id": "33349dae-27ab-4f52-88c3-e43576e1340d",
   "metadata": {},
   "outputs": [
    {
     "name": "stdout",
     "output_type": "stream",
     "text": [
      "+---+----+----+----+----+----+----+----+-----+----+----+-------------+-----+--------------------+-------------+-----------+----------+\n",
      "|Age| ALB| ALP| ALT| AST| BIL| CHE|CHOL| CREA| GGT|PROT|Sex_indicator|label|            features|rawPrediction|probability|prediction|\n",
      "+---+----+----+----+----+----+----+----+-----+----+----+-------------+-----+--------------------+-------------+-----------+----------+\n",
      "| 32|39.2|74.1|32.6|24.8| 9.6|9.15|4.32| 76.0|29.9|68.7|          0.0|  0.0|[32.0,39.2,74.1,3...|  [374.0,0.0]|  [1.0,0.0]|       0.0|\n",
      "| 33|39.0|51.7|15.9|24.0| 6.8|6.46|3.38| 65.0| 7.0|70.4|          0.0|  0.0|[33.0,39.0,51.7,1...|  [374.0,0.0]|  [1.0,0.0]|       0.0|\n",
      "| 33|38.7|39.8|22.5|23.0| 4.1|4.63|4.97| 63.0|15.2|71.9|          0.0|  0.0|[33.0,38.7,39.8,2...|   [19.0,0.0]|  [1.0,0.0]|       0.0|\n",
      "| 33|41.8|65.0|33.1|38.0| 6.6|8.83|4.43| 71.0|24.0|72.7|          0.0|  0.0|[33.0,41.8,65.0,3...|  [374.0,0.0]|  [1.0,0.0]|       0.0|\n",
      "| 33|45.2|88.3|32.4|31.2|10.1|9.78|5.51|102.0|48.5|76.5|          0.0|  0.0|[33.0,45.2,88.3,3...|  [374.0,0.0]|  [1.0,0.0]|       0.0|\n",
      "+---+----+----+----+----+----+----+----+-----+----+----+-------------+-----+--------------------+-------------+-----------+----------+\n",
      "only showing top 5 rows\n",
      "\n"
     ]
    }
   ],
   "source": [
    "cvModel2_1 = crossval2_1.fit(train)\n",
    "cvModel2_1.transform(test).show(5)"
   ]
  },
  {
   "cell_type": "markdown",
   "id": "0b4294dc-c140-4a2d-bfee-a792a4f4511a",
   "metadata": {},
   "source": [
    "+ Random Forest"
   ]
  },
  {
   "cell_type": "markdown",
   "id": "dabb59ae-d8bd-4b53-a900-a1f985eeffc3",
   "metadata": {},
   "source": [
    "Fit the model with cross validation using areaUnderROC metric"
   ]
  },
  {
   "cell_type": "code",
   "execution_count": 52,
   "id": "53ef7274-e553-448e-ae40-d6b6f3b085e6",
   "metadata": {},
   "outputs": [
    {
     "name": "stdout",
     "output_type": "stream",
     "text": [
      "+---+----+----+----+----+----+----+----+-----+----+----+-------------+-----+--------------------+--------------------+--------------------+----------+\n",
      "|Age| ALB| ALP| ALT| AST| BIL| CHE|CHOL| CREA| GGT|PROT|Sex_indicator|label|            features|       rawPrediction|         probability|prediction|\n",
      "+---+----+----+----+----+----+----+----+-----+----+----+-------------+-----+--------------------+--------------------+--------------------+----------+\n",
      "| 32|39.2|74.1|32.6|24.8| 9.6|9.15|4.32| 76.0|29.9|68.7|          0.0|  0.0|[32.0,39.2,74.1,3...|[19.9431068830735...|[0.99715534415367...|       0.0|\n",
      "| 33|39.0|51.7|15.9|24.0| 6.8|6.46|3.38| 65.0| 7.0|70.4|          0.0|  0.0|[33.0,39.0,51.7,1...|[19.9558619851143...|[0.99779309925571...|       0.0|\n",
      "| 33|38.7|39.8|22.5|23.0| 4.1|4.63|4.97| 63.0|15.2|71.9|          0.0|  0.0|[33.0,38.7,39.8,2...|[19.8847556330415...|[0.99423778165207...|       0.0|\n",
      "| 33|41.8|65.0|33.1|38.0| 6.6|8.83|4.43| 71.0|24.0|72.7|          0.0|  0.0|[33.0,41.8,65.0,3...|[19.9492044440491...|[0.99746022220245...|       0.0|\n",
      "| 33|45.2|88.3|32.4|31.2|10.1|9.78|5.51|102.0|48.5|76.5|          0.0|  0.0|[33.0,45.2,88.3,3...|[19.9660620416219...|[0.99830310208109...|       0.0|\n",
      "+---+----+----+----+----+----+----+----+-----+----+----+-------------+-----+--------------------+--------------------+--------------------+----------+\n",
      "only showing top 5 rows\n",
      "\n"
     ]
    }
   ],
   "source": [
    "cvModel3 = crossval3.fit(train)\n",
    "cvModel3.transform(test).show(5)"
   ]
  },
  {
   "cell_type": "markdown",
   "id": "6aa0ae2b-110e-4610-9d7f-63a4ea2b19ba",
   "metadata": {},
   "source": [
    "Fit the model with cross validation using areaUnderPR metric"
   ]
  },
  {
   "cell_type": "code",
   "execution_count": 66,
   "id": "fe2e6792-9768-4cc2-a23a-72bc6620985e",
   "metadata": {},
   "outputs": [
    {
     "name": "stdout",
     "output_type": "stream",
     "text": [
      "+---+----+----+----+----+----+----+----+-----+----+----+-------------+-----+--------------------+--------------------+--------------------+----------+\n",
      "|Age| ALB| ALP| ALT| AST| BIL| CHE|CHOL| CREA| GGT|PROT|Sex_indicator|label|            features|       rawPrediction|         probability|prediction|\n",
      "+---+----+----+----+----+----+----+----+-----+----+----+-------------+-----+--------------------+--------------------+--------------------+----------+\n",
      "| 32|39.2|74.1|32.6|24.8| 9.6|9.15|4.32| 76.0|29.9|68.7|          0.0|  0.0|[32.0,39.2,74.1,3...|[19.9275555104627...|[0.99637777552313...|       0.0|\n",
      "| 33|39.0|51.7|15.9|24.0| 6.8|6.46|3.38| 65.0| 7.0|70.4|          0.0|  0.0|[33.0,39.0,51.7,1...|[19.9338448186388...|[0.99669224093194...|       0.0|\n",
      "| 33|38.7|39.8|22.5|23.0| 4.1|4.63|4.97| 63.0|15.2|71.9|          0.0|  0.0|[33.0,38.7,39.8,2...|[18.9903193149702...|[0.94951596574851...|       0.0|\n",
      "| 33|41.8|65.0|33.1|38.0| 6.6|8.83|4.43| 71.0|24.0|72.7|          0.0|  0.0|[33.0,41.8,65.0,3...|[19.9275555104627...|[0.99637777552313...|       0.0|\n",
      "| 33|45.2|88.3|32.4|31.2|10.1|9.78|5.51|102.0|48.5|76.5|          0.0|  0.0|[33.0,45.2,88.3,3...|[19.9629588804508...|[0.99814794402254...|       0.0|\n",
      "+---+----+----+----+----+----+----+----+-----+----+----+-------------+-----+--------------------+--------------------+--------------------+----------+\n",
      "only showing top 5 rows\n",
      "\n"
     ]
    }
   ],
   "source": [
    "cvModel3_1 = crossval3_1.fit(train)\n",
    "cvModel3_1.transform(test).show(5)"
   ]
  },
  {
   "cell_type": "markdown",
   "id": "b69ec62f-58bc-4bba-a0a5-c453ffb060dd",
   "metadata": {},
   "source": [
    "+ One-vs-Rest classifier (a.k.a. One-vs-All)"
   ]
  },
  {
   "cell_type": "markdown",
   "id": "21128a46-5669-4dcc-af2e-797a8163bf6b",
   "metadata": {},
   "source": [
    "Fit the model with cross validation using areaUnderROC metric"
   ]
  },
  {
   "cell_type": "code",
   "execution_count": 55,
   "id": "e91e6651-fd9d-4e4c-ba75-ef1047dabc6f",
   "metadata": {},
   "outputs": [
    {
     "name": "stdout",
     "output_type": "stream",
     "text": [
      "+---+----+----+----+----+----+----+----+-----+----+----+-------------+-----+--------------------+--------------------+----------+\n",
      "|Age| ALB| ALP| ALT| AST| BIL| CHE|CHOL| CREA| GGT|PROT|Sex_indicator|label|            features|       rawPrediction|prediction|\n",
      "+---+----+----+----+----+----+----+----+-----+----+----+-------------+-----+--------------------+--------------------+----------+\n",
      "| 32|39.2|74.1|32.6|24.8| 9.6|9.15|4.32| 76.0|29.9|68.7|          0.0|  0.0|[32.0,39.2,74.1,3...|[1.91871314873404...|       0.0|\n",
      "| 33|39.0|51.7|15.9|24.0| 6.8|6.46|3.38| 65.0| 7.0|70.4|          0.0|  0.0|[33.0,39.0,51.7,1...|[1.29938010699354...|       0.0|\n",
      "| 33|38.7|39.8|22.5|23.0| 4.1|4.63|4.97| 63.0|15.2|71.9|          0.0|  0.0|[33.0,38.7,39.8,2...|[1.46307702769153...|       0.0|\n",
      "| 33|41.8|65.0|33.1|38.0| 6.6|8.83|4.43| 71.0|24.0|72.7|          0.0|  0.0|[33.0,41.8,65.0,3...|[1.50783408046238...|       0.0|\n",
      "| 33|45.2|88.3|32.4|31.2|10.1|9.78|5.51|102.0|48.5|76.5|          0.0|  0.0|[33.0,45.2,88.3,3...|[1.56342941382262...|       0.0|\n",
      "+---+----+----+----+----+----+----+----+-----+----+----+-------------+-----+--------------------+--------------------+----------+\n",
      "only showing top 5 rows\n",
      "\n"
     ]
    }
   ],
   "source": [
    "cvModel4 = crossval4.fit(train)\n",
    "cvModel4.transform(test).show(5)"
   ]
  },
  {
   "cell_type": "markdown",
   "id": "14ccfbc0-2d06-4532-9bef-abe7ad8cb3b2",
   "metadata": {},
   "source": [
    "Fit the model with cross validation using areaUnderPR metric"
   ]
  },
  {
   "cell_type": "code",
   "execution_count": 69,
   "id": "f8a3e64d-3ec0-4a26-bce3-621c49eba8a6",
   "metadata": {},
   "outputs": [
    {
     "name": "stdout",
     "output_type": "stream",
     "text": [
      "+---+----+----+----+----+----+----+----+-----+----+----+-------------+-----+--------------------+--------------------+----------+\n",
      "|Age| ALB| ALP| ALT| AST| BIL| CHE|CHOL| CREA| GGT|PROT|Sex_indicator|label|            features|       rawPrediction|prediction|\n",
      "+---+----+----+----+----+----+----+----+-----+----+----+-------------+-----+--------------------+--------------------+----------+\n",
      "| 32|39.2|74.1|32.6|24.8| 9.6|9.15|4.32| 76.0|29.9|68.7|          0.0|  0.0|[32.0,39.2,74.1,3...|[3.54335798651759...|       0.0|\n",
      "| 33|39.0|51.7|15.9|24.0| 6.8|6.46|3.38| 65.0| 7.0|70.4|          0.0|  0.0|[33.0,39.0,51.7,1...|[1.82233024925300...|       0.0|\n",
      "| 33|38.7|39.8|22.5|23.0| 4.1|4.63|4.97| 63.0|15.2|71.9|          0.0|  0.0|[33.0,38.7,39.8,2...|[2.41339915166002...|       0.0|\n",
      "| 33|41.8|65.0|33.1|38.0| 6.6|8.83|4.43| 71.0|24.0|72.7|          0.0|  0.0|[33.0,41.8,65.0,3...|[2.79827502851329...|       0.0|\n",
      "| 33|45.2|88.3|32.4|31.2|10.1|9.78|5.51|102.0|48.5|76.5|          0.0|  0.0|[33.0,45.2,88.3,3...|[2.99455593528637...|       0.0|\n",
      "+---+----+----+----+----+----+----+----+-----+----+----+-------------+-----+--------------------+--------------------+----------+\n",
      "only showing top 5 rows\n",
      "\n"
     ]
    }
   ],
   "source": [
    "cvModel4_1 = crossval4_1.fit(train)\n",
    "cvModel4_1.transform(test).show(5)"
   ]
  },
  {
   "cell_type": "markdown",
   "id": "b9555fb8-80f9-4184-8d4a-b9b3c8d43c3f",
   "metadata": {},
   "source": [
    "+ Gradient-Boosted Tree Classifier"
   ]
  },
  {
   "cell_type": "markdown",
   "id": "5db22029-56ad-45f6-953f-13d60fecc348",
   "metadata": {},
   "source": [
    "Fit the model with cross validation using areaUnderROC metric"
   ]
  },
  {
   "cell_type": "code",
   "execution_count": 22,
   "id": "d9633e8b-1a04-4992-8383-234218121bb0",
   "metadata": {},
   "outputs": [
    {
     "name": "stdout",
     "output_type": "stream",
     "text": [
      "+---+----+----+----+----+----+----+----+-----+----+----+-------------+-----+--------------------+--------------------+--------------------+----------+\n",
      "|Age| ALB| ALP| ALT| AST| BIL| CHE|CHOL| CREA| GGT|PROT|Sex_indicator|label|            features|       rawPrediction|         probability|prediction|\n",
      "+---+----+----+----+----+----+----+----+-----+----+----+-------------+-----+--------------------+--------------------+--------------------+----------+\n",
      "| 32|39.2|74.1|32.6|24.8| 9.6|9.15|4.32| 76.0|29.9|68.7|          0.0|  0.0|[32.0,39.2,74.1,3...|[1.55529190155845...|[0.95732721157099...|       0.0|\n",
      "| 33|39.0|51.7|15.9|24.0| 6.8|6.46|3.38| 65.0| 7.0|70.4|          0.0|  0.0|[33.0,39.0,51.7,1...|[1.55529190155845...|[0.95732721157099...|       0.0|\n",
      "| 33|38.7|39.8|22.5|23.0| 4.1|4.63|4.97| 63.0|15.2|71.9|          0.0|  0.0|[33.0,38.7,39.8,2...|[1.51665609307152...|[0.95405657332409...|       0.0|\n",
      "| 33|41.8|65.0|33.1|38.0| 6.6|8.83|4.43| 71.0|24.0|72.7|          0.0|  0.0|[33.0,41.8,65.0,3...|[1.42625938077153...|[0.94544873482713...|       0.0|\n",
      "| 33|45.2|88.3|32.4|31.2|10.1|9.78|5.51|102.0|48.5|76.5|          0.0|  0.0|[33.0,45.2,88.3,3...|[1.55529190155845...|[0.95732721157099...|       0.0|\n",
      "+---+----+----+----+----+----+----+----+-----+----+----+-------------+-----+--------------------+--------------------+--------------------+----------+\n",
      "only showing top 5 rows\n",
      "\n"
     ]
    }
   ],
   "source": [
    "cvModel5 = crossval5.fit(train)\n",
    "cvModel5.transform(test).show(5)"
   ]
  },
  {
   "cell_type": "markdown",
   "id": "1b508652-3ffd-4a27-874a-84fbf566563b",
   "metadata": {},
   "source": [
    "Fit the model with cross validation using areaUnderPR metric"
   ]
  },
  {
   "cell_type": "code",
   "execution_count": 70,
   "id": "dfe1184b-97c3-4789-9724-f8eefb043d1b",
   "metadata": {},
   "outputs": [
    {
     "name": "stdout",
     "output_type": "stream",
     "text": [
      "+---+----+----+----+----+----+----+----+-----+----+----+-------------+-----+--------------------+--------------------+--------------------+----------+\n",
      "|Age| ALB| ALP| ALT| AST| BIL| CHE|CHOL| CREA| GGT|PROT|Sex_indicator|label|            features|       rawPrediction|         probability|prediction|\n",
      "+---+----+----+----+----+----+----+----+-----+----+----+-------------+-----+--------------------+--------------------+--------------------+----------+\n",
      "| 32|39.2|74.1|32.6|24.8| 9.6|9.15|4.32| 76.0|29.9|68.7|          0.0|  0.0|[32.0,39.2,74.1,3...|[1.55529190155845...|[0.95732721157099...|       0.0|\n",
      "| 33|39.0|51.7|15.9|24.0| 6.8|6.46|3.38| 65.0| 7.0|70.4|          0.0|  0.0|[33.0,39.0,51.7,1...|[1.55529190155845...|[0.95732721157099...|       0.0|\n",
      "| 33|38.7|39.8|22.5|23.0| 4.1|4.63|4.97| 63.0|15.2|71.9|          0.0|  0.0|[33.0,38.7,39.8,2...|[1.51665609307152...|[0.95405657332409...|       0.0|\n",
      "| 33|41.8|65.0|33.1|38.0| 6.6|8.83|4.43| 71.0|24.0|72.7|          0.0|  0.0|[33.0,41.8,65.0,3...|[1.42625938077153...|[0.94544873482713...|       0.0|\n",
      "| 33|45.2|88.3|32.4|31.2|10.1|9.78|5.51|102.0|48.5|76.5|          0.0|  0.0|[33.0,45.2,88.3,3...|[1.55529190155845...|[0.95732721157099...|       0.0|\n",
      "+---+----+----+----+----+----+----+----+-----+----+----+-------------+-----+--------------------+--------------------+--------------------+----------+\n",
      "only showing top 5 rows\n",
      "\n"
     ]
    }
   ],
   "source": [
    "cvModel5_1 = crossval5_1.fit(train)\n",
    "cvModel5_1.transform(test).show(5)"
   ]
  },
  {
   "cell_type": "code",
   "execution_count": 68,
   "id": "112b6740-c753-4bb6-8467-90fdfc54590c",
   "metadata": {},
   "outputs": [
    {
     "data": {
      "text/plain": [
       "0=Blood Donor    533\n",
       "3=Cirrhosis       24\n",
       "1=Hepatitis       20\n",
       "2=Fibrosis        12\n",
       "Name: Category, dtype: int64"
      ]
     },
     "execution_count": 68,
     "metadata": {},
     "output_type": "execute_result"
    }
   ],
   "source": [
    "hcv_data['Category'].value_counts()"
   ]
  },
  {
   "cell_type": "markdown",
   "id": "95c699d4-ba48-4cd1-8fab-30e017e21390",
   "metadata": {},
   "source": [
    "From the output, we can observe the best model is different for our two metrics. Like mentioned above, ROC AUC looks at a true positive rate TPR and false positive rate FPR while PR AUC looks at positive predictive value PPV and true positive rate TPR. ROC uses what's in the data, PR uses what's in the prediction as a basis.\n",
    "\n",
    "When data is heavily imbalanced, PR AUC focuses mainly on the positive class (PPV and TPR) it cares less about the frequent negative class. Thus, we would prefer to use ROC AUC as our metric for cross validation process."
   ]
  },
  {
   "cell_type": "markdown",
   "id": "ea6071cb-695f-4191-b082-6075ee2632df",
   "metadata": {},
   "source": [
    "## Model Testing\n",
    "Use that best model to evaluate the performance among all 5 classifiers using **areaUnderROC** and **areaUnderPR** metrics."
   ]
  },
  {
   "cell_type": "markdown",
   "id": "71e00611-76ea-4d01-9829-49234fa099e0",
   "metadata": {},
   "source": [
    "+ Logistic Regression"
   ]
  },
  {
   "cell_type": "code",
   "execution_count": 43,
   "id": "f059b0fd-2c95-4d5d-af93-48aa48b034f3",
   "metadata": {},
   "outputs": [
    {
     "data": {
      "text/plain": [
       "0.9174311926605506"
      ]
     },
     "execution_count": 43,
     "metadata": {},
     "output_type": "execute_result"
    }
   ],
   "source": [
    "BinaryClassificationEvaluator(metricName = 'areaUnderROC').evaluate(cvModel1.transform(test))"
   ]
  },
  {
   "cell_type": "code",
   "execution_count": 48,
   "id": "13fdbfeb-0f0b-4642-9afb-e9222e78c132",
   "metadata": {},
   "outputs": [
    {
     "data": {
      "text/plain": [
       "0.7405865750055891"
      ]
     },
     "execution_count": 48,
     "metadata": {},
     "output_type": "execute_result"
    }
   ],
   "source": [
    "BinaryClassificationEvaluator(metricName = 'areaUnderPR').evaluate(cvModel1.transform(test))"
   ]
  },
  {
   "cell_type": "markdown",
   "id": "9dcebe45-b592-4d4c-ac9a-0ab97dd32ffe",
   "metadata": {},
   "source": [
    "+ Decision Tree"
   ]
  },
  {
   "cell_type": "code",
   "execution_count": 50,
   "id": "b4b4cc93-58c5-41cd-9ebb-29a8c791afaf",
   "metadata": {},
   "outputs": [
    {
     "data": {
      "text/plain": [
       "0.8061926605504587"
      ]
     },
     "execution_count": 50,
     "metadata": {},
     "output_type": "execute_result"
    }
   ],
   "source": [
    "BinaryClassificationEvaluator(metricName = 'areaUnderROC').evaluate(cvModel2.transform(test))"
   ]
  },
  {
   "cell_type": "code",
   "execution_count": 51,
   "id": "72d11454-9e0e-4ba5-b75d-fae894327851",
   "metadata": {},
   "outputs": [
    {
     "data": {
      "text/plain": [
       "0.6169871794871795"
      ]
     },
     "execution_count": 51,
     "metadata": {},
     "output_type": "execute_result"
    }
   ],
   "source": [
    "BinaryClassificationEvaluator(metricName = 'areaUnderPR').evaluate(cvModel2.transform(test))"
   ]
  },
  {
   "cell_type": "markdown",
   "id": "039e3728-68dc-4fb9-959b-43916d7557f6",
   "metadata": {},
   "source": [
    "+ Random Forest"
   ]
  },
  {
   "cell_type": "code",
   "execution_count": 53,
   "id": "e4fdffae-8b9a-4789-bcaa-f142a5dd215e",
   "metadata": {},
   "outputs": [
    {
     "data": {
      "text/plain": [
       "0.9919724770642201"
      ]
     },
     "execution_count": 53,
     "metadata": {},
     "output_type": "execute_result"
    }
   ],
   "source": [
    "BinaryClassificationEvaluator(metricName = 'areaUnderROC').evaluate(cvModel3.transform(test))"
   ]
  },
  {
   "cell_type": "code",
   "execution_count": 54,
   "id": "9b93cb16-70a7-43b7-b594-0c2879a139fc",
   "metadata": {},
   "outputs": [
    {
     "data": {
      "text/plain": [
       "0.920405982905983"
      ]
     },
     "execution_count": 54,
     "metadata": {},
     "output_type": "execute_result"
    }
   ],
   "source": [
    "BinaryClassificationEvaluator(metricName = 'areaUnderPR').evaluate(cvModel3.transform(test))"
   ]
  },
  {
   "cell_type": "markdown",
   "id": "89c23250-f565-4989-a97c-1b9ca3e00f12",
   "metadata": {},
   "source": [
    "+ One-vs-Rest classifier (a.k.a. One-vs-All)"
   ]
  },
  {
   "cell_type": "code",
   "execution_count": 56,
   "id": "eda009fd-3130-4f28-9b87-18f5395a32ba",
   "metadata": {},
   "outputs": [
    {
     "data": {
      "text/plain": [
       "0.9529816513761469"
      ]
     },
     "execution_count": 56,
     "metadata": {},
     "output_type": "execute_result"
    }
   ],
   "source": [
    "BinaryClassificationEvaluator(metricName = 'areaUnderROC').evaluate(cvModel4.transform(test))"
   ]
  },
  {
   "cell_type": "code",
   "execution_count": 57,
   "id": "9516fce7-9b0d-4424-be2e-b1c5a07d07c7",
   "metadata": {},
   "outputs": [
    {
     "data": {
      "text/plain": [
       "0.865635278548669"
      ]
     },
     "execution_count": 57,
     "metadata": {},
     "output_type": "execute_result"
    }
   ],
   "source": [
    "BinaryClassificationEvaluator(metricName = 'areaUnderPR').evaluate(cvModel4.transform(test))"
   ]
  },
  {
   "cell_type": "markdown",
   "id": "d5e78de8-95a8-4a84-9bf7-acbddf42750b",
   "metadata": {},
   "source": [
    "+ Gradient-Boosted Tree Classifier"
   ]
  },
  {
   "cell_type": "code",
   "execution_count": 24,
   "id": "8daf1162-eb72-4891-821e-725147512059",
   "metadata": {},
   "outputs": [
    {
     "data": {
      "text/plain": [
       "0.9833715596330277"
      ]
     },
     "execution_count": 24,
     "metadata": {},
     "output_type": "execute_result"
    }
   ],
   "source": [
    "BinaryClassificationEvaluator(metricName = 'areaUnderROC').evaluate(cvModel5.transform(test))"
   ]
  },
  {
   "cell_type": "code",
   "execution_count": 25,
   "id": "d660dfe9-a986-440b-877f-5c083434b2e5",
   "metadata": {},
   "outputs": [
    {
     "data": {
      "text/plain": [
       "0.8270724067599067"
      ]
     },
     "execution_count": 25,
     "metadata": {},
     "output_type": "execute_result"
    }
   ],
   "source": [
    "BinaryClassificationEvaluator(metricName = 'areaUnderPR').evaluate(cvModel5.transform(test))"
   ]
  },
  {
   "cell_type": "markdown",
   "id": "475a3e79-9b87-4aa2-b963-5f9b32bfe658",
   "metadata": {},
   "source": [
    "Random forest is the best classifier among all 5 models. The **areaUnderROC** of 0.992 in random forest classifer represents approximtely 99.2% chance that the model will be able to distinguish between positive class and negative class. Similarly, the **areaUnderPR** of 0.920 is very clsoe to 1, which is the highest among all the classifier. The value of it represents 92% true positives out of all that have been predicted as positives."
   ]
  }
 ],
 "metadata": {
  "kernelspec": {
   "display_name": "Python 3 (ipykernel)",
   "language": "python",
   "name": "python3"
  },
  "language_info": {
   "codemirror_mode": {
    "name": "ipython",
    "version": 3
   },
   "file_extension": ".py",
   "mimetype": "text/x-python",
   "name": "python",
   "nbconvert_exporter": "python",
   "pygments_lexer": "ipython3",
   "version": "3.10.8"
  }
 },
 "nbformat": 4,
 "nbformat_minor": 5
}
